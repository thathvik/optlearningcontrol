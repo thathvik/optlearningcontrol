{
 "cells": [
  {
   "cell_type": "markdown",
   "metadata": {},
   "source": [
    "This is notebook file is the Solution for Exercise 2 from the [exercise series 1](https://github.com/righetti/optlearningcontrol/tree/master/Spring2020/series1) for the course Optimal and Learning Control (ME-GY 7973), as solved by Tarun Thathvik Paladugu."
   ]
  },
  {
   "cell_type": "markdown",
   "metadata": {
    "colab_type": "text",
    "id": "2X-rD5D7ewgB"
   },
   "source": [
    "# Exercise 2:\n",
    "\n",
    "\n",
    "\n"
   ]
  },
  {
   "cell_type": "markdown",
   "metadata": {
    "colab_type": "text",
    "id": "b1CnyudYiamE"
   },
   "source": [
    "## Part a)"
   ]
  },
  {
   "cell_type": "code",
   "execution_count": 1,
   "metadata": {
    "colab": {},
    "colab_type": "code",
    "id": "4ywH7qWJ6L1d"
   },
   "outputs": [],
   "source": [
    "import math\n",
    "import numpy as np"
   ]
  },
  {
   "cell_type": "code",
   "execution_count": 2,
   "metadata": {
    "colab": {},
    "colab_type": "code",
    "id": "8I5qC4rHV_WF"
   },
   "outputs": [],
   "source": [
    "def cost(x,u,J):\n",
    "  return pow(x+4,2)+pow(u,2)+J\n",
    "\n",
    "def dp(x,u,N,J,u_best):\n",
    "  i=N-1\n",
    "  while i!=-1:\n",
    "    for j in x:\n",
    "      for k in u:\n",
    "        X=j+k\n",
    "      \n",
    "        if abs(X)>4:\n",
    "          continue\n",
    "      \n",
    "        h= cost(j,k,J[i+1,X])\n",
    "      \n",
    "        if h<J[i,j]:\n",
    "          J[i,j]=h\n",
    "          U[i,j]=k\n",
    "    i-=1\n",
    "  return J, U "
   ]
  },
  {
   "cell_type": "code",
   "execution_count": 3,
   "metadata": {
    "colab": {},
    "colab_type": "code",
    "id": "9HwBmg4vqBsQ"
   },
   "outputs": [],
   "source": [
    "# Initiating the varibles \n",
    "\n",
    "N=15\n",
    "\n",
    "x=[-4,-3,-2,-1,0,1,2,3,4]\n",
    "u=[-2,-1,0,1,2]\n",
    "J=np.empty((N+1,9))\n",
    "U=np.empty((N,9))\n",
    "\n",
    "for i in range(N+1):\n",
    "  for j in x:\n",
    "    J[i,j] = np.inf\n",
    "    if i<N:\n",
    "      U[i,j] = np.inf\n",
    "\n",
    "# Terminal Cost\n",
    "J[N,0] = 0\n",
    "\n",
    "# Implement Dynamic Programming \n",
    "J,U = dp(x,u,N,J,U)"
   ]
  },
  {
   "cell_type": "code",
   "execution_count": 4,
   "metadata": {
    "colab": {
     "base_uri": "https://localhost:8080/",
     "height": 595
    },
    "colab_type": "code",
    "id": "DM0-SCnztoSf",
    "outputId": "cc776c89-da4e-435b-a200-236cc31e2104"
   },
   "outputs": [
    {
     "name": "stdout",
     "output_type": "stream",
     "text": [
      "The Cost to go for everystage: \n",
      "[[ 38.  55.  78. 108. 146.  11.  13.  18.  26.]\n",
      " [ 38.  55.  78. 108. 146.  11.  13.  18.  26.]\n",
      " [ 38.  55.  78. 108. 146.  11.  13.  18.  26.]\n",
      " [ 38.  55.  78. 108. 146.  11.  13.  18.  26.]\n",
      " [ 38.  55.  78. 108. 146.  11.  13.  18.  26.]\n",
      " [ 38.  55.  78. 108. 146.  11.  13.  18.  26.]\n",
      " [ 38.  55.  78. 108. 146.  11.  13.  18.  26.]\n",
      " [ 38.  55.  78. 108. 145.  11.  13.  18.  26.]\n",
      " [ 38.  55.  77. 107. 144.  11.  13.  18.  26.]\n",
      " [ 37.  54.  76. 106. 143.  11.  13.  18.  26.]\n",
      " [ 36.  53.  75. 104. 140.  11.  13.  17.  25.]\n",
      " [ 35.  51.  72. 100. 135.  11.  12.  16.  24.]\n",
      " [ 32.  47.  67.  92. 124.  11.  11.  15.  22.]\n",
      " [ 27.  39.  56.  79. 108.  12.  10.  12.  18.]\n",
      " [ 16.  26.  40.  inf  inf  inf  inf   8.  10.]\n",
      " [  0.  inf  inf  inf  inf  inf  inf  inf  inf]]\n",
      "\n",
      "The optimal action at each stage: \n",
      "[[-2. -2. -2. -2. -2.  0. -1. -1. -2.]\n",
      " [-2. -2. -2. -2. -2.  0. -1. -1. -2.]\n",
      " [-2. -2. -2. -2. -2.  0. -1. -1. -2.]\n",
      " [-2. -2. -2. -2. -2.  0. -1. -1. -2.]\n",
      " [-2. -2. -2. -2. -2.  0. -1. -1. -2.]\n",
      " [-2. -2. -2. -2. -2.  0. -1. -1. -2.]\n",
      " [-2. -2. -2. -2. -2.  0. -1. -1. -2.]\n",
      " [-2. -2. -2. -2. -2.  0. -1. -1. -2.]\n",
      " [-2. -2. -2. -2. -2.  0. -1. -1. -2.]\n",
      " [-2. -2. -2. -2. -2.  0. -1. -1. -2.]\n",
      " [-2. -2. -2. -2. -2.  0. -1. -1. -2.]\n",
      " [-2. -2. -2. -2. -2.  0.  0. -1. -2.]\n",
      " [-2. -2. -2. -2. -2.  1.  0. -1. -1.]\n",
      " [-1. -2. -2. -2. -2.  2.  1.  0. -1.]\n",
      " [ 0. -1. -2. inf inf inf inf  2.  1.]]\n"
     ]
    }
   ],
   "source": [
    "print (\"The Cost to go for everystage: \") \n",
    "print (J)\n",
    "\n",
    "print (\"\\nThe optimal action at each stage: \")\n",
    "print (U)"
   ]
  },
  {
   "cell_type": "markdown",
   "metadata": {
    "colab_type": "text",
    "id": "-k-biCEpgNpC"
   },
   "source": [
    "## Part b)\n",
    "\n",
    "\n"
   ]
  },
  {
   "cell_type": "markdown",
   "metadata": {
    "colab_type": "text",
    "id": "Uo2xcMmkqDpG"
   },
   "source": [
    "Cost to go for x<sub>4</sub> = 4\n",
    "\n",
    "J<sub>4</sub>(x<sub>4</sub>)= 146"
   ]
  },
  {
   "cell_type": "code",
   "execution_count": 5,
   "metadata": {
    "colab": {
     "base_uri": "https://localhost:8080/",
     "height": 34
    },
    "colab_type": "code",
    "id": "uApq13dCeOr5",
    "outputId": "8a110aac-2e4f-416b-a59a-c37767a759ad"
   },
   "outputs": [
    {
     "data": {
      "text/plain": [
       "146.0"
      ]
     },
     "execution_count": 5,
     "metadata": {},
     "output_type": "execute_result"
    }
   ],
   "source": [
    "J[4,4]"
   ]
  },
  {
   "cell_type": "markdown",
   "metadata": {
    "colab_type": "text",
    "id": "iMngfJl8iVbg"
   },
   "source": [
    "## Part c)"
   ]
  },
  {
   "cell_type": "code",
   "execution_count": 6,
   "metadata": {
    "colab": {},
    "colab_type": "code",
    "id": "cAl4N-4mlLtQ"
   },
   "outputs": [],
   "source": [
    "import matplotlib.pyplot as plt"
   ]
  },
  {
   "cell_type": "markdown",
   "metadata": {
    "colab_type": "text",
    "id": "wgRrDs_ZlNpZ"
   },
   "source": [
    "*Defining the points to plot:*"
   ]
  },
  {
   "cell_type": "code",
   "execution_count": 7,
   "metadata": {
    "colab": {},
    "colab_type": "code",
    "id": "dBg_CmCcpG2L"
   },
   "outputs": [],
   "source": [
    "def points(x,J,U,N):\n",
    "  X=np.array([])\n",
    "  u=np.array([])\n",
    "  y=np.array([])\n",
    "  j=np.array([]) \n",
    "  for i in range(N):\n",
    "    y = np.append(y,i)\n",
    "    X = np.append(X,x)\n",
    "    u = np.append(u,U[i,x])\n",
    "    j = np.append(j,int(J[i,x]))\n",
    "    x  = np.add(x,int(U[i,x]))\n",
    "\n",
    "  X = np.append(X,x)\n",
    "  y = np.append(y,15)\n",
    "  j = np.append(j,int(J[15,x]))\n",
    "\n",
    "  print (\"Optimal Control path: \")\n",
    "  print (u)\n",
    "  print (\"\\nStates taken in the optimal control path: \")\n",
    "  print (X)\n",
    "  print (\"\\nCost-to-go at each stage in the optimal control path: \")\n",
    "  print (j)\n",
    "\n",
    "  return X,y,j,u"
   ]
  },
  {
   "cell_type": "code",
   "execution_count": 8,
   "metadata": {
    "colab": {
     "base_uri": "https://localhost:8080/",
     "height": 153
    },
    "colab_type": "code",
    "id": "zPBkHCcawiXh",
    "outputId": "4c8368f8-c034-41f8-f688-712a71e98942"
   },
   "outputs": [
    {
     "name": "stdout",
     "output_type": "stream",
     "text": [
      "Optimal Control path: \n",
      "[-2. -1. -1.  0.  0.  0.  0.  0.  0.  0.  0.  0.  1.  1.  2.]\n",
      "\n",
      "States taken in the optimal control path: \n",
      "[ 0. -2. -3. -4. -4. -4. -4. -4. -4. -4. -4. -4. -4. -3. -2.  0.]\n",
      "\n",
      "Cost-to-go at each stage in the optimal control path: \n",
      "[38. 18. 13. 11. 11. 11. 11. 11. 11. 11. 11. 11. 11. 10.  8.  0.]\n"
     ]
    }
   ],
   "source": [
    "x1,y,j1,u1=points(0, J, U, N)"
   ]
  },
  {
   "cell_type": "code",
   "execution_count": 9,
   "metadata": {
    "colab": {
     "base_uri": "https://localhost:8080/",
     "height": 153
    },
    "colab_type": "code",
    "id": "ddOVRwyizVHp",
    "outputId": "05865646-2b5c-4e63-84d6-d69145589a3b"
   },
   "outputs": [
    {
     "name": "stdout",
     "output_type": "stream",
     "text": [
      "Optimal Control path: \n",
      "[-2. -2. -1.  0.  0.  0.  0.  0.  0.  0.  0.  0.  1.  1.  2.]\n",
      "\n",
      "States taken in the optimal control path: \n",
      "[ 1. -1. -3. -4. -4. -4. -4. -4. -4. -4. -4. -4. -4. -3. -2.  0.]\n",
      "\n",
      "Cost-to-go at each stage in the optimal control path: \n",
      "[55. 26. 13. 11. 11. 11. 11. 11. 11. 11. 11. 11. 11. 10.  8.  0.]\n"
     ]
    }
   ],
   "source": [
    "x2,y,j2,u2=points(1, J, U, N)"
   ]
  },
  {
   "cell_type": "code",
   "execution_count": 10,
   "metadata": {
    "colab": {
     "base_uri": "https://localhost:8080/",
     "height": 153
    },
    "colab_type": "code",
    "id": "mKmpyusezWbI",
    "outputId": "41c2e92d-54d6-4307-9eea-3152a55c075e"
   },
   "outputs": [
    {
     "name": "stdout",
     "output_type": "stream",
     "text": [
      "Optimal Control path: \n",
      "[0. 0. 0. 0. 0. 0. 0. 0. 0. 0. 0. 0. 1. 1. 2.]\n",
      "\n",
      "States taken in the optimal control path: \n",
      "[-4. -4. -4. -4. -4. -4. -4. -4. -4. -4. -4. -4. -4. -3. -2.  0.]\n",
      "\n",
      "Cost-to-go at each stage in the optimal control path: \n",
      "[11. 11. 11. 11. 11. 11. 11. 11. 11. 11. 11. 11. 11. 10.  8.  0.]\n"
     ]
    }
   ],
   "source": [
    "x3,y,j3,u3=points(-4, J, U, N)"
   ]
  },
  {
   "cell_type": "markdown",
   "metadata": {
    "colab_type": "text",
    "id": "BPk13pCgE0aJ"
   },
   "source": [
    "*Plotting graphs:*"
   ]
  },
  {
   "cell_type": "code",
   "execution_count": 11,
   "metadata": {
    "colab": {
     "base_uri": "https://localhost:8080/",
     "height": 295
    },
    "colab_type": "code",
    "id": "Z0ciESu1FDkv",
    "outputId": "2f1c0f49-e770-4190-e6f5-ed26afc72d5e"
   },
   "outputs": [
    {
     "data": {
      "image/png": "[encoded data removed]",
      "text/plain": [
       "<Figure size 432x288 with 1 Axes>"
      ]
     },
     "metadata": {
      "needs_background": "light"
     },
     "output_type": "display_data"
    }
   ],
   "source": [
    "plt.plot(y[0:15], u1, label = \"x = 0\", marker='o', linestyle='dashed') \n",
    "plt.plot(y[0:15], u2, label = \"x = 1\", marker='o', linestyle='dashed') \n",
    "plt.plot(y[0:15], u3, label = \"x = -4\", marker='o', linestyle='dashed') \n",
    "  \n",
    "# naming the x axis \n",
    "plt.ylabel('u* --> Optimal Control') \n",
    "# naming the y axis \n",
    "plt.xlabel('N --> Stages') \n",
    "# giving a title to my graph \n",
    "plt.title('Optimal Control') \n",
    "  \n",
    "# show a legend on the plot \n",
    "plt.legend() \n",
    "  \n",
    "# function to show the plot \n",
    "plt.show() "
   ]
  },
  {
   "cell_type": "code",
   "execution_count": 12,
   "metadata": {
    "colab": {
     "base_uri": "https://localhost:8080/",
     "height": 363
    },
    "colab_type": "code",
    "id": "JrNMODy4CLjI",
    "outputId": "411874c1-9a33-430b-d11d-ff818ed64c69"
   },
   "outputs": [
    {
     "data": {
      "image/png": "[encoded data removed]",
      "text/plain": [
       "<Figure size 432x288 with 1 Axes>"
      ]
     },
     "metadata": {
      "needs_background": "light"
     },
     "output_type": "display_data"
    },
    {
     "name": "stdout",
     "output_type": "stream",
     "text": [
      "\n",
      "J(x=0) =  38.0\n",
      "J(x=1) =  55.0\n",
      "J(x=-4)=  11.0\n"
     ]
    }
   ],
   "source": [
    "plt.plot(y, x1, label = \"x = 0\", marker='o', linestyle='dashed') \n",
    "plt.plot(y, x2, label = \"x = 1\", marker='o', linestyle='dashed') \n",
    "plt.plot(y, x3, label = \"x = -4\", marker='o', linestyle='dashed') \n",
    "  \n",
    "# naming the x axis \n",
    "plt.ylabel('x --> States') \n",
    "# naming the y axis \n",
    "plt.xlabel('N --> Stages') \n",
    "# giving a title to my graph \n",
    "plt.title('Optimal Path') \n",
    "  \n",
    "# show a legend on the plot \n",
    "plt.legend() \n",
    "  \n",
    "# function to show the plot \n",
    "plt.show() \n",
    "\n",
    "print (\"\\nJ(x=0) = \", J[0,0])\n",
    "print (\"J(x=1) = \", J[0,1])\n",
    "print (\"J(x=-4)= \", J[0,-4])"
   ]
  },
  {
   "cell_type": "markdown",
   "metadata": {
    "colab_type": "text",
    "id": "-7O0d5DoLpQW"
   },
   "source": [
    "## Part d)"
   ]
  },
  {
   "cell_type": "markdown",
   "metadata": {
    "colab_type": "text",
    "id": "nSfgFvhekXrw"
   },
   "source": [
    "The terminal cost for all the values of x<sub>N</sub> is zero. Let us observe how this effects the results below."
   ]
  },
  {
   "cell_type": "code",
   "execution_count": 13,
   "metadata": {
    "colab": {},
    "colab_type": "code",
    "id": "AldWN_8xLxRT"
   },
   "outputs": [],
   "source": [
    "# Initiating the varibles \n",
    "\n",
    "N=15\n",
    "\n",
    "x=[-4,-3,-2,-1,0,1,2,3,4]\n",
    "u=[-2,-1,0,1,2]\n",
    "Jd=np.empty((N+1,9))\n",
    "Ud=np.empty((N,9))\n",
    "\n",
    "for i in range(N+1):\n",
    "  for j in x:\n",
    "    Jd[i,j] = np.inf\n",
    "    if i<N:\n",
    "      Ud[i,j] = np.inf\n",
    "\n",
    "#Terminal cost g=0 for all x at stage N\n",
    "    else:\n",
    "      Jd[i,j]= 0 \n",
    "\n",
    "# Implement Dynamic Programing\n",
    "Jd,Ud = dp(x,u,N,Jd,Ud)"
   ]
  },
  {
   "cell_type": "code",
   "execution_count": 14,
   "metadata": {
    "colab": {
     "base_uri": "https://localhost:8080/",
     "height": 595
    },
    "colab_type": "code",
    "id": "k_HBuAfjNU-h",
    "outputId": "d75e7558-11ab-48fa-abd6-0b52daf236a1"
   },
   "outputs": [
    {
     "name": "stdout",
     "output_type": "stream",
     "text": [
      "The Cost to go for everystage: \n",
      "[[ 27.  44.  67.  97. 135.   0.   2.   7.  15.]\n",
      " [ 27.  44.  67.  97. 135.   0.   2.   7.  15.]\n",
      " [ 27.  44.  67.  97. 135.   0.   2.   7.  15.]\n",
      " [ 27.  44.  67.  97. 135.   0.   2.   7.  15.]\n",
      " [ 27.  44.  67.  97. 135.   0.   2.   7.  15.]\n",
      " [ 27.  44.  67.  97. 135.   0.   2.   7.  15.]\n",
      " [ 27.  44.  67.  97. 135.   0.   2.   7.  15.]\n",
      " [ 27.  44.  67.  97. 135.   0.   2.   7.  15.]\n",
      " [ 27.  44.  67.  97. 135.   0.   2.   7.  15.]\n",
      " [ 27.  44.  67.  97. 135.   0.   2.   7.  15.]\n",
      " [ 27.  44.  67.  97. 134.   0.   2.   7.  15.]\n",
      " [ 27.  44.  66.  96. 132.   0.   2.   7.  15.]\n",
      " [ 26.  43.  64.  91. 124.   0.   2.   7.  15.]\n",
      " [ 24.  38.  56.  78. 104.   0.   2.   6.  14.]\n",
      " [ 16.  25.  36.  49.  64.   0.   1.   4.   9.]\n",
      " [  0.   0.   0.   0.   0.   0.   0.   0.   0.]]\n",
      "\n",
      "The optimal action at each stage: \n",
      "[[-2. -2. -2. -2. -2.  0. -1. -1. -2.]\n",
      " [-2. -2. -2. -2. -2.  0. -1. -1. -2.]\n",
      " [-2. -2. -2. -2. -2.  0. -1. -1. -2.]\n",
      " [-2. -2. -2. -2. -2.  0. -1. -1. -2.]\n",
      " [-2. -2. -2. -2. -2.  0. -1. -1. -2.]\n",
      " [-2. -2. -2. -2. -2.  0. -1. -1. -2.]\n",
      " [-2. -2. -2. -2. -2.  0. -1. -1. -2.]\n",
      " [-2. -2. -2. -2. -2.  0. -1. -1. -2.]\n",
      " [-2. -2. -2. -2. -2.  0. -1. -1. -2.]\n",
      " [-2. -2. -2. -2. -2.  0. -1. -1. -2.]\n",
      " [-2. -2. -2. -2. -2.  0. -1. -1. -2.]\n",
      " [-2. -2. -2. -2. -2.  0. -1. -1. -2.]\n",
      " [-2. -2. -2. -2. -2.  0. -1. -1. -2.]\n",
      " [-2. -2. -2. -2. -2.  0. -1. -1. -2.]\n",
      " [ 0.  0.  0.  0.  0.  0.  0.  0.  0.]]\n"
     ]
    }
   ],
   "source": [
    "print (\"The Cost to go for everystage: \") \n",
    "print (Jd)\n",
    "\n",
    "print (\"\\nThe optimal action at each stage: \")\n",
    "print (Ud)"
   ]
  },
  {
   "cell_type": "code",
   "execution_count": 15,
   "metadata": {
    "colab": {
     "base_uri": "https://localhost:8080/",
     "height": 153
    },
    "colab_type": "code",
    "id": "Y1HElhqvQs6K",
    "outputId": "3c9edbbf-cf1a-499c-ee32-730ba7b8835d"
   },
   "outputs": [
    {
     "name": "stdout",
     "output_type": "stream",
     "text": [
      "Optimal Control path: \n",
      "[-2. -1. -1.  0.  0.  0.  0.  0.  0.  0.  0.  0.  0.  0.  0.]\n",
      "\n",
      "States taken in the optimal control path: \n",
      "[ 0. -2. -3. -4. -4. -4. -4. -4. -4. -4. -4. -4. -4. -4. -4. -4.]\n",
      "\n",
      "Cost-to-go at each stage in the optimal control path: \n",
      "[27.  7.  2.  0.  0.  0.  0.  0.  0.  0.  0.  0.  0.  0.  0.  0.]\n"
     ]
    }
   ],
   "source": [
    "x1d,y,j1d,u1d=points(0, Jd, Ud, N)"
   ]
  },
  {
   "cell_type": "code",
   "execution_count": 16,
   "metadata": {
    "colab": {
     "base_uri": "https://localhost:8080/",
     "height": 153
    },
    "colab_type": "code",
    "id": "l6CgvTaPQ0aD",
    "outputId": "1935463c-4218-4943-a2c5-39b696e223bd"
   },
   "outputs": [
    {
     "name": "stdout",
     "output_type": "stream",
     "text": [
      "Optimal Control path: \n",
      "[-2. -2. -1.  0.  0.  0.  0.  0.  0.  0.  0.  0.  0.  0.  0.]\n",
      "\n",
      "States taken in the optimal control path: \n",
      "[ 1. -1. -3. -4. -4. -4. -4. -4. -4. -4. -4. -4. -4. -4. -4. -4.]\n",
      "\n",
      "Cost-to-go at each stage in the optimal control path: \n",
      "[44. 15.  2.  0.  0.  0.  0.  0.  0.  0.  0.  0.  0.  0.  0.  0.]\n"
     ]
    }
   ],
   "source": [
    "x2d,y,j2d,u2d=points(1, Jd, Ud, N)"
   ]
  },
  {
   "cell_type": "code",
   "execution_count": 17,
   "metadata": {
    "colab": {
     "base_uri": "https://localhost:8080/",
     "height": 153
    },
    "colab_type": "code",
    "id": "IKXmq6r2Q95J",
    "outputId": "231ed2c6-8ba5-46d1-965c-23e140c2a44c"
   },
   "outputs": [
    {
     "name": "stdout",
     "output_type": "stream",
     "text": [
      "Optimal Control path: \n",
      "[0. 0. 0. 0. 0. 0. 0. 0. 0. 0. 0. 0. 0. 0. 0.]\n",
      "\n",
      "States taken in the optimal control path: \n",
      "[-4. -4. -4. -4. -4. -4. -4. -4. -4. -4. -4. -4. -4. -4. -4. -4.]\n",
      "\n",
      "Cost-to-go at each stage in the optimal control path: \n",
      "[0. 0. 0. 0. 0. 0. 0. 0. 0. 0. 0. 0. 0. 0. 0. 0.]\n"
     ]
    }
   ],
   "source": [
    "x3d,y,j3d,u3d=points(-4, Jd, Ud, N)"
   ]
  },
  {
   "cell_type": "markdown",
   "metadata": {
    "colab_type": "text",
    "id": "ANJAc7dQRCO8"
   },
   "source": [
    "*Plotting and comparing the graphs from part c and d:*"
   ]
  },
  {
   "cell_type": "code",
   "execution_count": 18,
   "metadata": {
    "colab": {
     "base_uri": "https://localhost:8080/",
     "height": 573
    },
    "colab_type": "code",
    "id": "n6T4Ght0RJGE",
    "outputId": "47c20089-2816-4956-eaa0-3b6c29f6c8ca"
   },
   "outputs": [
    {
     "data": {
      "image/png": "[encoded data removed]",
      "text/plain": [
       "<Figure size 432x288 with 1 Axes>"
      ]
     },
     "metadata": {
      "needs_background": "light"
     },
     "output_type": "display_data"
    },
    {
     "data": {
      "image/png": "[encoded data removed]",
      "text/plain": [
       "<Figure size 432x288 with 1 Axes>"
      ]
     },
     "metadata": {
      "needs_background": "light"
     },
     "output_type": "display_data"
    }
   ],
   "source": [
    "plt.plot(y[0:15], u1, label = \"x = 0\", marker='o', linestyle='dashed') \n",
    "plt.plot(y[0:15], u2, label = \"x = 1\", marker='o', linestyle='dashed') \n",
    "plt.plot(y[0:15], u3, label = \"x = -4\", marker='o', linestyle='dashed') \n",
    "  \n",
    "# naming the x axis \n",
    "plt.ylabel('u* --> Optimal Control') \n",
    "# naming the y axis \n",
    "plt.xlabel('N --> Stages') \n",
    "# giving a title to my graph \n",
    "plt.title('Optimal Control for part c') \n",
    "  \n",
    "# show a legend on the plot \n",
    "plt.legend() \n",
    "  \n",
    "# function to show the plot \n",
    "plt.show()\n",
    "\n",
    "\n",
    "plt.plot(y[0:15], u1d, label = \"x = 0\", marker='o', linestyle='dashed') \n",
    "plt.plot(y[0:15], u2d, label = \"x = 1\", marker='o', linestyle='dashed') \n",
    "plt.plot(y[0:15], u3d, label = \"x = -4\", marker='o', linestyle='dashed') \n",
    "  \n",
    "# naming the x axis \n",
    "plt.ylabel('u* --> Optimal Control') \n",
    "# naming the y axis \n",
    "plt.xlabel('N --> Stages') \n",
    "# giving a title to my graph \n",
    "plt.title('Optimal Control for part d') \n",
    "  \n",
    "# show a legend on the plot \n",
    "plt.legend() \n",
    "# function to show the plot \n",
    "plt.show() "
   ]
  },
  {
   "cell_type": "code",
   "execution_count": 19,
   "metadata": {
    "colab": {
     "base_uri": "https://localhost:8080/",
     "height": 743
    },
    "colab_type": "code",
    "id": "YBaRJCMBRFjR",
    "outputId": "67e6ae07-a400-4581-da75-53395e73faeb"
   },
   "outputs": [
    {
     "data": {
      "image/png": "[encoded data removed]",
      "text/plain": [
       "<Figure size 432x288 with 1 Axes>"
      ]
     },
     "metadata": {
      "needs_background": "light"
     },
     "output_type": "display_data"
    },
    {
     "name": "stdout",
     "output_type": "stream",
     "text": [
      "\n",
      "J(x=0) =  38.0 \t final stage =  0.0\n",
      "J(x=1) =  55.0 \t final stage =  0.0\n",
      "J(x=-4)=  11.0 \t final stage =  0.0 \n",
      "\n"
     ]
    },
    {
     "data": {
      "image/png": "[encoded data removed]",
      "text/plain": [
       "<Figure size 432x288 with 1 Axes>"
      ]
     },
     "metadata": {
      "needs_background": "light"
     },
     "output_type": "display_data"
    },
    {
     "name": "stdout",
     "output_type": "stream",
     "text": [
      "\n",
      "J(x=0) =  27.0 \t final stage =  -4.0\n",
      "J(x=1) =  44.0 \t final stage =  -4.0\n",
      "J(x=-4)=  0.0 \t final stage =  -4.0 \n",
      "\n"
     ]
    }
   ],
   "source": [
    "plt.plot(y, x1, label = \"x = 0\", marker='o', linestyle='dashed') \n",
    "plt.plot(y, x2, label = \"x = 1\", marker='o', linestyle='dashed') \n",
    "plt.plot(y, x3, label = \"x = -4\", marker='o', linestyle='dashed') \n",
    "  \n",
    "# naming the x axis \n",
    "plt.ylabel('x --> States') \n",
    "# naming the y axis \n",
    "plt.xlabel('N --> Stages') \n",
    "# giving a title to my graph \n",
    "plt.title('Optimal Path for part c') \n",
    "  \n",
    "# show a legend on the plot \n",
    "plt.legend() \n",
    "  \n",
    "# function to show the plot \n",
    "plt.show()  \n",
    "\n",
    "print (\"\\nJ(x=0) = \", J[0,0], \"\\t final stage = \", x1[15])\n",
    "print (\"J(x=1) = \", J[0,1], \"\\t final stage = \", x2[15])\n",
    "print (\"J(x=-4)= \", J[0,-4], \"\\t final stage = \", x3[15],\"\\n\")\n",
    "\n",
    "plt.plot(y, x1d, label = \"x = 0\", marker='o', linestyle='dashed') \n",
    "plt.plot(y, x2d, label = \"x = 1\", marker='o', linestyle='dashed') \n",
    "plt.plot(y, x3d, label = \"x = -4\",marker='o', linestyle='dashed') \n",
    "  \n",
    "# naming the x axis \n",
    "plt.ylabel('x --> States') \n",
    "# naming the y axis \n",
    "plt.xlabel('N --> Stages') \n",
    "# giving a title to my graph \n",
    "plt.title('Optimal Path for path d') \n",
    "  \n",
    "# show a legend on the plot \n",
    "plt.legend() \n",
    "  \n",
    "# function to show the plot \n",
    "plt.show() \n",
    "\n",
    "print (\"\\nJ(x=0) = \", Jd[0,0], \"\\t final stage = \", x1d[15])\n",
    "print (\"J(x=1) = \", Jd[0,1], \"\\t final stage = \", x2d[15])\n",
    "print (\"J(x=-4)= \", Jd[0,-4], \"\\t final stage = \", x3d[15], \"\\n\")"
   ]
  },
  {
   "cell_type": "markdown",
   "metadata": {
    "colab_type": "text",
    "id": "tW2j8LykRs5p"
   },
   "source": [
    "During the first part of the question, the terminal cost for every value of x<sub>N</sub> <span>&#8800;</span> 0 was <span>&#8734;</span>. Since the goal of dynamic programming is to get a control path with the least cost, the control path drove the states to get a terminal state zero (x<sub>N</sub>=0.)\n",
    "<p>\n",
    "Unlike this, in part d, the terminal cost for all values of x<sub>N</sub> is zero, which reduces the constraint of getting a terminal state zero (x<sub>N</sub>=0.) \n",
    "<p>\n",
    "Since the rest of the parameters remained the same, the control path is very much identical until stage 11. [After which there was nothing driving the plot for part d to get x<sub>N</sub>=0.]\n",
    "<p>Also there is a clear decrease in the overall cost-to-go for every state."
   ]
  },
  {
   "cell_type": "markdown",
   "metadata": {
    "colab_type": "text",
    "id": "aW5smLJOjPx1"
   },
   "source": [
    "## Part e)"
   ]
  },
  {
   "cell_type": "markdown",
   "metadata": {
    "colab_type": "text",
    "id": "yhHfzoZIl-YU"
   },
   "source": [
    "In the new cost function, we are eliminating the cost to control, so let us see observe what happens.\n"
   ]
  },
  {
   "cell_type": "code",
   "execution_count": 20,
   "metadata": {
    "colab": {},
    "colab_type": "code",
    "id": "1gu4uvmejWVt"
   },
   "outputs": [],
   "source": [
    "def cost_e(x,u,J):\n",
    "  return pow(x+4,2)+J\n",
    "\n",
    "def dp_e(x,u,N,J,u_best):\n",
    "  i=N-1\n",
    "  while i!=-1:\n",
    "    for j in x:\n",
    "      for k in u:\n",
    "        X=j+k\n",
    "      \n",
    "        if abs(X)>4:\n",
    "          continue\n",
    "      \n",
    "        h= cost_e(j,k,J[i+1,X])\n",
    "      \n",
    "        if h<J[i,j]:\n",
    "          J[i,j]=h\n",
    "          U[i,j]=k\n",
    "    i-=1\n",
    "  return J, U "
   ]
  },
  {
   "cell_type": "code",
   "execution_count": 21,
   "metadata": {
    "colab": {},
    "colab_type": "code",
    "id": "lExdd-0smpnN"
   },
   "outputs": [],
   "source": [
    "# Initiating the varibles \n",
    "\n",
    "N=15\n",
    "\n",
    "x=[-4,-3,-2,-1,0,1,2,3,4]\n",
    "u=[-2,-1,0,1,2]\n",
    "Je=np.empty((N+1,9))\n",
    "Ue=np.empty((N,9))\n",
    "\n",
    "for i in range(N+1):\n",
    "  for j in x:\n",
    "    Je[i,j] = np.inf\n",
    "    if i<N:\n",
    "      Ue[i,j] = np.inf\n",
    "\n",
    "#Terminal cost g=0 for all x at stage N\n",
    "    else:\n",
    "      Je[i,j]= 0 \n",
    "\n",
    "# Implement Dynamic Programing\n",
    "Je,Ue = dp_e(x,u,N,Je,Ue)"
   ]
  },
  {
   "cell_type": "code",
   "execution_count": 22,
   "metadata": {
    "colab": {
     "base_uri": "https://localhost:8080/",
     "height": 595
    },
    "colab_type": "code",
    "id": "KECZ5plbnL-A",
    "outputId": "ae25b7cd-e6e0-443f-bbd6-dd395a21851e"
   },
   "outputs": [
    {
     "name": "stdout",
     "output_type": "stream",
     "text": [
      "The Cost to go for everystage: \n",
      "[[ 20.  35.  56.  84. 120.   0.   1.   4.  10.]\n",
      " [ 20.  35.  56.  84. 120.   0.   1.   4.  10.]\n",
      " [ 20.  35.  56.  84. 120.   0.   1.   4.  10.]\n",
      " [ 20.  35.  56.  84. 120.   0.   1.   4.  10.]\n",
      " [ 20.  35.  56.  84. 120.   0.   1.   4.  10.]\n",
      " [ 20.  35.  56.  84. 120.   0.   1.   4.  10.]\n",
      " [ 20.  35.  56.  84. 120.   0.   1.   4.  10.]\n",
      " [ 20.  35.  56.  84. 120.   0.   1.   4.  10.]\n",
      " [ 20.  35.  56.  84. 120.   0.   1.   4.  10.]\n",
      " [ 20.  35.  56.  84. 120.   0.   1.   4.  10.]\n",
      " [ 20.  35.  56.  84. 120.   0.   1.   4.  10.]\n",
      " [ 20.  35.  56.  84. 120.   0.   1.   4.  10.]\n",
      " [ 20.  35.  56.  83. 116.   0.   1.   4.  10.]\n",
      " [ 20.  34.  52.  74. 100.   0.   1.   4.  10.]\n",
      " [ 16.  25.  36.  49.  64.   0.   1.   4.   9.]\n",
      " [  0.   0.   0.   0.   0.   0.   0.   0.   0.]]\n",
      "\n",
      "The optimal action at each stage: \n",
      "[[-2. -2. -2. -2. -2.  0. -1. -2. -2.]\n",
      " [-2. -2. -2. -2. -2.  0. -1. -2. -2.]\n",
      " [-2. -2. -2. -2. -2.  0. -1. -2. -2.]\n",
      " [-2. -2. -2. -2. -2.  0. -1. -2. -2.]\n",
      " [-2. -2. -2. -2. -2.  0. -1. -2. -2.]\n",
      " [-2. -2. -2. -2. -2.  0. -1. -2. -2.]\n",
      " [-2. -2. -2. -2. -2.  0. -1. -2. -2.]\n",
      " [-2. -2. -2. -2. -2.  0. -1. -2. -2.]\n",
      " [-2. -2. -2. -2. -2.  0. -1. -2. -2.]\n",
      " [-2. -2. -2. -2. -2.  0. -1. -2. -2.]\n",
      " [-2. -2. -2. -2. -2.  0. -1. -2. -2.]\n",
      " [-2. -2. -2. -2. -2.  0. -1. -2. -2.]\n",
      " [-2. -2. -2. -2. -2.  0. -1. -2. -2.]\n",
      " [-2. -2. -2. -2. -2.  0. -1. -2. -2.]\n",
      " [-2. -2. -2. -2. -2.  0. -1. -2. -2.]]\n"
     ]
    }
   ],
   "source": [
    "print (\"The Cost to go for everystage: \") \n",
    "print (Je)\n",
    "\n",
    "print (\"\\nThe optimal action at each stage: \")\n",
    "print (Ue)"
   ]
  },
  {
   "cell_type": "markdown",
   "metadata": {
    "colab_type": "text",
    "id": "szvp2cJytnp6"
   },
   "source": [
    "*Defining the points to plot:*"
   ]
  },
  {
   "cell_type": "code",
   "execution_count": 23,
   "metadata": {
    "colab": {
     "base_uri": "https://localhost:8080/",
     "height": 153
    },
    "colab_type": "code",
    "id": "-9AiQWhAteWE",
    "outputId": "50d979f2-9ed3-4f77-90e1-54bf94b1fd76"
   },
   "outputs": [
    {
     "name": "stdout",
     "output_type": "stream",
     "text": [
      "Optimal Control path: \n",
      "[-2. -2.  0.  0.  0.  0.  0.  0.  0.  0.  0.  0.  0.  0.  0.]\n",
      "\n",
      "States taken in the optimal control path: \n",
      "[ 0. -2. -4. -4. -4. -4. -4. -4. -4. -4. -4. -4. -4. -4. -4. -4.]\n",
      "\n",
      "Cost-to-go at each stage in the optimal control path: \n",
      "[20.  4.  0.  0.  0.  0.  0.  0.  0.  0.  0.  0.  0.  0.  0.  0.]\n"
     ]
    }
   ],
   "source": [
    "x1e,y,j1e,u1e=points(0, Je, Ue, N)"
   ]
  },
  {
   "cell_type": "code",
   "execution_count": 24,
   "metadata": {
    "colab": {
     "base_uri": "https://localhost:8080/",
     "height": 153
    },
    "colab_type": "code",
    "id": "Ng3DatR8tssX",
    "outputId": "8cdf9e46-2867-472d-efe0-3b91044ff982"
   },
   "outputs": [
    {
     "name": "stdout",
     "output_type": "stream",
     "text": [
      "Optimal Control path: \n",
      "[-2. -2. -1.  0.  0.  0.  0.  0.  0.  0.  0.  0.  0.  0.  0.]\n",
      "\n",
      "States taken in the optimal control path: \n",
      "[ 1. -1. -3. -4. -4. -4. -4. -4. -4. -4. -4. -4. -4. -4. -4. -4.]\n",
      "\n",
      "Cost-to-go at each stage in the optimal control path: \n",
      "[35. 10.  1.  0.  0.  0.  0.  0.  0.  0.  0.  0.  0.  0.  0.  0.]\n"
     ]
    }
   ],
   "source": [
    "x2e,y,j2e,u2e=points(1, Je, Ue, N)"
   ]
  },
  {
   "cell_type": "code",
   "execution_count": 25,
   "metadata": {
    "colab": {
     "base_uri": "https://localhost:8080/",
     "height": 153
    },
    "colab_type": "code",
    "id": "uZ8O5AkBts-a",
    "outputId": "1d809185-4407-45fb-d9c8-bf1847ef660a"
   },
   "outputs": [
    {
     "name": "stdout",
     "output_type": "stream",
     "text": [
      "Optimal Control path: \n",
      "[0. 0. 0. 0. 0. 0. 0. 0. 0. 0. 0. 0. 0. 0. 0.]\n",
      "\n",
      "States taken in the optimal control path: \n",
      "[-4. -4. -4. -4. -4. -4. -4. -4. -4. -4. -4. -4. -4. -4. -4. -4.]\n",
      "\n",
      "Cost-to-go at each stage in the optimal control path: \n",
      "[0. 0. 0. 0. 0. 0. 0. 0. 0. 0. 0. 0. 0. 0. 0. 0.]\n"
     ]
    }
   ],
   "source": [
    "x3e,y,j3e,u3e=points(-4, Je, Ue, N)"
   ]
  },
  {
   "cell_type": "code",
   "execution_count": 26,
   "metadata": {
    "colab": {
     "base_uri": "https://localhost:8080/",
     "height": 573
    },
    "colab_type": "code",
    "id": "SqjV_pGX7fhc",
    "outputId": "92f064d6-151e-4924-c9f2-3d651e3888f5"
   },
   "outputs": [
    {
     "data": {
      "image/png": "[encoded data removed]",
      "text/plain": [
       "<Figure size 432x288 with 1 Axes>"
      ]
     },
     "metadata": {
      "needs_background": "light"
     },
     "output_type": "display_data"
    },
    {
     "data": {
      "image/png": "[encoded data removed]",
      "text/plain": [
       "<Figure size 432x288 with 1 Axes>"
      ]
     },
     "metadata": {
      "needs_background": "light"
     },
     "output_type": "display_data"
    }
   ],
   "source": [
    "plt.plot(y[0:15], u2d, label = \"x = 1\", marker='o', linestyle='dashed') \n",
    "plt.plot(y[0:15], u3d, label = \"x = -4\", marker='o', linestyle='dashed')\n",
    "plt.plot(y[0:15], u1d, label = \"x = 0\", marker='o', linestyle='dashed') \n",
    "\n",
    "  \n",
    "# naming the x axis \n",
    "plt.ylabel('u* --> Optimal Control') \n",
    "# naming the y axis \n",
    "plt.xlabel('N --> Stages') \n",
    "# giving a title to my graph \n",
    "plt.title('Optimal Control for part d') \n",
    "  \n",
    "# show a legend on the plot \n",
    "plt.legend() \n",
    "  \n",
    "# function to show the plot \n",
    "plt.show() \n",
    "\n",
    "\n",
    "plt.plot(y[0:15], u2e, label = \"x = 1\", marker='o', linestyle='dashed') \n",
    "plt.plot(y[0:15], u3e, label = \"x = -4\", marker='o', linestyle='dashed') \n",
    "plt.plot(y[0:15], u1e, label = \"x = 0\", marker='o', linestyle='dashed') \n",
    "\n",
    "  \n",
    "# naming the x axis \n",
    "plt.ylabel('u* --> Optimal Control') \n",
    "# naming the y axis \n",
    "plt.xlabel('N --> Stages') \n",
    "# giving a title to my graph \n",
    "plt.title('Optimal Control for part e') \n",
    "  \n",
    "# show a legend on the plot \n",
    "plt.legend() \n",
    "# function to show the plot \n",
    "plt.show() "
   ]
  },
  {
   "cell_type": "code",
   "execution_count": 27,
   "metadata": {
    "colab": {
     "base_uri": "https://localhost:8080/",
     "height": 743
    },
    "colab_type": "code",
    "id": "puVgV48HvheL",
    "outputId": "95782213-b748-499f-f340-41722be6c97a"
   },
   "outputs": [
    {
     "data": {
      "image/png": "[encoded data removed]",
      "text/plain": [
       "<Figure size 432x288 with 1 Axes>"
      ]
     },
     "metadata": {
      "needs_background": "light"
     },
     "output_type": "display_data"
    },
    {
     "name": "stdout",
     "output_type": "stream",
     "text": [
      "\n",
      "J(x=0) =  27.0 \t final stage =  -4.0\n",
      "J(x=1) =  44.0 \t final stage =  -4.0\n",
      "J(x=-4)=  0.0 \t final stage =  -4.0 \n",
      "\n"
     ]
    },
    {
     "data": {
      "image/png": "[encoded data removed]",
      "text/plain": [
       "<Figure size 432x288 with 1 Axes>"
      ]
     },
     "metadata": {
      "needs_background": "light"
     },
     "output_type": "display_data"
    },
    {
     "name": "stdout",
     "output_type": "stream",
     "text": [
      "\n",
      "J(x=0) =  20.0 \t final stage =  -4.0\n",
      "J(x=1) =  35.0 \t final stage =  -4.0\n",
      "J(x=-4)=  0.0 \t final stage =  -4.0 \n",
      "\n"
     ]
    }
   ],
   "source": [
    "plt.plot(y, x2d, label = \"x = 1\", marker='o', linestyle='dashed') \n",
    "plt.plot(y, x3d, label = \"x = -4\", marker='o', linestyle='dashed') \n",
    "plt.plot(y, x1d, label = \"x = 0\", marker='o', linestyle='dashed') \n",
    "\n",
    "  \n",
    "# naming the x axis \n",
    "plt.ylabel('x --> States') \n",
    "# naming the y axis \n",
    "plt.xlabel('N --> Stages') \n",
    "# giving a title to my graph \n",
    "plt.title('Optimal Path for part d') \n",
    "  \n",
    "# show a legend on the plot \n",
    "plt.legend() \n",
    "  \n",
    "# function to show the plot \n",
    "plt.show() \n",
    "\n",
    "print (\"\\nJ(x=0) = \", Jd[0,0], \"\\t final stage = \", x1d[15])\n",
    "print (\"J(x=1) = \", Jd[0,1], \"\\t final stage = \", x2d[15])\n",
    "print (\"J(x=-4)= \", Jd[0,-4], \"\\t final stage = \", x3d[15],\"\\n\")\n",
    "\n",
    "plt.plot(y, x2e, label = \"x = 1\", marker='o', linestyle='dashed') \n",
    "plt.plot(y, x3e, label = \"x = -4\",marker='o', linestyle='dashed') \n",
    "plt.plot(y, x1e, label = \"x = 0\", marker='o', linestyle='dashed') \n",
    "\n",
    "  \n",
    "# naming the x axis \n",
    "plt.ylabel('x --> States') \n",
    "# naming the y axis \n",
    "plt.xlabel('N --> Stages') \n",
    "# giving a title to my graph \n",
    "plt.title('Optimal path for path e') \n",
    "  \n",
    "# show a legend on the plot \n",
    "plt.legend() \n",
    "  \n",
    "# function to show the plot \n",
    "plt.show() \n",
    "\n",
    "print (\"\\nJ(x=0) = \", Je[0,0], \"\\t final stage = \", x1e[15])\n",
    "print (\"J(x=1) = \", Je[0,1], \"\\t final stage = \", x2e[15])\n",
    "print (\"J(x=-4)= \", Je[0,-4], \"\\t final stage = \", x3e[15], \"\\n\")"
   ]
  },
  {
   "cell_type": "markdown",
   "metadata": {
    "colab_type": "text",
    "id": "YsS_4zDov46a"
   },
   "source": [
    "Since the cost of control action is made zero, the control becomes very aggressive and takes the maximum possible value to make the cost minimum.  \n",
    "<p>  The plot for x<sub>0</sub>=1 is more aggressive for part e unlike for part d. The value of x<sub>3</sub>=1 for part d, whereas for part e, x<sub>3</sub>=0, with both u<sub>0</sub> and u<sub>1</sub> = -2 [agressive]. But x<sub>0</sub>=-4 and x<sub>0</sub>=1 are special cases where they are already controlled with u<sub>0</sub> and u<sub>1</sub> = -2 in part d, which there is no diffence in the control/state sequence, however the overall cost-to-go for all x<sub>0</sub> is less in part e."
   ]
  }
 ],
 "metadata": {
  "colab": {
   "name": "Optimal_exercise_series_1.ipynb",
   "provenance": []
  },
  "kernelspec": {
   "display_name": "Python 3",
   "language": "python",
   "name": "python3"
  },
  "language_info": {
   "codemirror_mode": {
    "name": "ipython",
    "version": 3
   },
   "file_extension": ".py",
   "mimetype": "text/x-python",
   "name": "python",
   "nbconvert_exporter": "python",
   "pygments_lexer": "ipython3",
   "version": "3.7.4"
  }
 },
 "nbformat": 4,
 "nbformat_minor": 1
}
